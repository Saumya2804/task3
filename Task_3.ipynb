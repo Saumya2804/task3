{
 "cells": [
  {
   "cell_type": "code",
   "execution_count": 3,
   "id": "b448e050-4c35-4cf4-a1fa-08017280f068",
   "metadata": {},
   "outputs": [],
   "source": [
    "import pandas as pd\n",
    "import numpy as np\n",
    "import matplotlib.pyplot as plp\n",
    "import seaborn as sn"
   ]
  },
  {
   "cell_type": "code",
   "execution_count": 9,
   "id": "18e08bf9-dcca-4234-90c3-eef085229c9b",
   "metadata": {},
   "outputs": [],
   "source": [
    "data = pd.read_csv('C:\\\\Users\\\\Saumya Jain\\\\OneDrive\\\\Desktop\\\\dataset\\\\Hist_Quarter_Fin_Stmt.csv')"
   ]
  },
  {
   "cell_type": "code",
   "execution_count": 10,
   "id": "4dcc7b11-f6ac-483f-8f94-0ae1d6a2c99c",
   "metadata": {
    "scrolled": true
   },
   "outputs": [
    {
     "data": {
      "text/html": [
       "<div>\n",
       "<style scoped>\n",
       "    .dataframe tbody tr th:only-of-type {\n",
       "        vertical-align: middle;\n",
       "    }\n",
       "\n",
       "    .dataframe tbody tr th {\n",
       "        vertical-align: top;\n",
       "    }\n",
       "\n",
       "    .dataframe thead th {\n",
       "        text-align: right;\n",
       "    }\n",
       "</style>\n",
       "<table border=\"1\" class=\"dataframe\">\n",
       "  <thead>\n",
       "    <tr style=\"text-align: right;\">\n",
       "      <th></th>\n",
       "      <th>Unnamed: 0</th>\n",
       "      <th>Sales +</th>\n",
       "      <th>Expenses +</th>\n",
       "      <th>Operating Profit</th>\n",
       "      <th>OPM %</th>\n",
       "      <th>Other Income +</th>\n",
       "      <th>Interest</th>\n",
       "      <th>Depreciation</th>\n",
       "      <th>Profit before tax</th>\n",
       "      <th>Tax %</th>\n",
       "      <th>Net Profit</th>\n",
       "      <th>EPS in Rs</th>\n",
       "      <th>Raw PDF</th>\n",
       "      <th>quarter(10yrs)</th>\n",
       "      <th>ScripCode</th>\n",
       "      <th>Revenue</th>\n",
       "      <th>Financing Profit</th>\n",
       "      <th>Financing Margin %</th>\n",
       "      <th>Gross NPA %</th>\n",
       "      <th>Net NPA %</th>\n",
       "    </tr>\n",
       "  </thead>\n",
       "  <tbody>\n",
       "    <tr>\n",
       "      <th>0</th>\n",
       "      <td>0</td>\n",
       "      <td>136492.0</td>\n",
       "      <td>114487</td>\n",
       "      <td>22005.0</td>\n",
       "      <td>16%</td>\n",
       "      <td>-386</td>\n",
       "      <td>6064</td>\n",
       "      <td>6332</td>\n",
       "      <td>9223</td>\n",
       "      <td>29%</td>\n",
       "      <td>6546</td>\n",
       "      <td>9.39</td>\n",
       "      <td>NaN</td>\n",
       "      <td>Mar 2020</td>\n",
       "      <td>500325</td>\n",
       "      <td>NaN</td>\n",
       "      <td>NaN</td>\n",
       "      <td>NaN</td>\n",
       "      <td>NaN</td>\n",
       "      <td>NaN</td>\n",
       "    </tr>\n",
       "    <tr>\n",
       "      <th>1</th>\n",
       "      <td>1</td>\n",
       "      <td>88253.0</td>\n",
       "      <td>71378</td>\n",
       "      <td>16875.0</td>\n",
       "      <td>19%</td>\n",
       "      <td>9676</td>\n",
       "      <td>6735</td>\n",
       "      <td>6308</td>\n",
       "      <td>13508</td>\n",
       "      <td>2%</td>\n",
       "      <td>13248</td>\n",
       "      <td>20.87</td>\n",
       "      <td>NaN</td>\n",
       "      <td>Jun 2020</td>\n",
       "      <td>500325</td>\n",
       "      <td>NaN</td>\n",
       "      <td>NaN</td>\n",
       "      <td>NaN</td>\n",
       "      <td>NaN</td>\n",
       "      <td>NaN</td>\n",
       "    </tr>\n",
       "    <tr>\n",
       "      <th>2</th>\n",
       "      <td>2</td>\n",
       "      <td>111236.0</td>\n",
       "      <td>92291</td>\n",
       "      <td>18945.0</td>\n",
       "      <td>17%</td>\n",
       "      <td>4354</td>\n",
       "      <td>6084</td>\n",
       "      <td>6626</td>\n",
       "      <td>10589</td>\n",
       "      <td>-0%</td>\n",
       "      <td>10602</td>\n",
       "      <td>15.09</td>\n",
       "      <td>NaN</td>\n",
       "      <td>Sep 2020</td>\n",
       "      <td>500325</td>\n",
       "      <td>NaN</td>\n",
       "      <td>NaN</td>\n",
       "      <td>NaN</td>\n",
       "      <td>NaN</td>\n",
       "      <td>NaN</td>\n",
       "    </tr>\n",
       "    <tr>\n",
       "      <th>3</th>\n",
       "      <td>3</td>\n",
       "      <td>117860.0</td>\n",
       "      <td>96294</td>\n",
       "      <td>21566.0</td>\n",
       "      <td>18%</td>\n",
       "      <td>4407</td>\n",
       "      <td>4326</td>\n",
       "      <td>6665</td>\n",
       "      <td>14982</td>\n",
       "      <td>1%</td>\n",
       "      <td>14894</td>\n",
       "      <td>20.67</td>\n",
       "      <td>NaN</td>\n",
       "      <td>Dec 2020</td>\n",
       "      <td>500325</td>\n",
       "      <td>NaN</td>\n",
       "      <td>NaN</td>\n",
       "      <td>NaN</td>\n",
       "      <td>NaN</td>\n",
       "      <td>NaN</td>\n",
       "    </tr>\n",
       "    <tr>\n",
       "      <th>4</th>\n",
       "      <td>4</td>\n",
       "      <td>149575.0</td>\n",
       "      <td>126224</td>\n",
       "      <td>23351.0</td>\n",
       "      <td>16%</td>\n",
       "      <td>4048</td>\n",
       "      <td>4044</td>\n",
       "      <td>6973</td>\n",
       "      <td>16382</td>\n",
       "      <td>8%</td>\n",
       "      <td>14995</td>\n",
       "      <td>20.86</td>\n",
       "      <td>NaN</td>\n",
       "      <td>Mar 2021</td>\n",
       "      <td>500325</td>\n",
       "      <td>NaN</td>\n",
       "      <td>NaN</td>\n",
       "      <td>NaN</td>\n",
       "      <td>NaN</td>\n",
       "      <td>NaN</td>\n",
       "    </tr>\n",
       "  </tbody>\n",
       "</table>\n",
       "</div>"
      ],
      "text/plain": [
       "   Unnamed: 0   Sales +  Expenses +  Operating Profit OPM %  Other Income +  \\\n",
       "0           0  136492.0      114487           22005.0   16%            -386   \n",
       "1           1   88253.0       71378           16875.0   19%            9676   \n",
       "2           2  111236.0       92291           18945.0   17%            4354   \n",
       "3           3  117860.0       96294           21566.0   18%            4407   \n",
       "4           4  149575.0      126224           23351.0   16%            4048   \n",
       "\n",
       "   Interest  Depreciation  Profit before tax Tax %  Net Profit  EPS in Rs  \\\n",
       "0      6064          6332               9223   29%        6546       9.39   \n",
       "1      6735          6308              13508    2%       13248      20.87   \n",
       "2      6084          6626              10589   -0%       10602      15.09   \n",
       "3      4326          6665              14982    1%       14894      20.67   \n",
       "4      4044          6973              16382    8%       14995      20.86   \n",
       "\n",
       "   Raw PDF quarter(10yrs)  ScripCode  Revenue  Financing Profit  \\\n",
       "0      NaN       Mar 2020     500325      NaN               NaN   \n",
       "1      NaN       Jun 2020     500325      NaN               NaN   \n",
       "2      NaN       Sep 2020     500325      NaN               NaN   \n",
       "3      NaN       Dec 2020     500325      NaN               NaN   \n",
       "4      NaN       Mar 2021     500325      NaN               NaN   \n",
       "\n",
       "  Financing Margin % Gross NPA % Net NPA %  \n",
       "0                NaN         NaN       NaN  \n",
       "1                NaN         NaN       NaN  \n",
       "2                NaN         NaN       NaN  \n",
       "3                NaN         NaN       NaN  \n",
       "4                NaN         NaN       NaN  "
      ]
     },
     "execution_count": 10,
     "metadata": {},
     "output_type": "execute_result"
    }
   ],
   "source": [
    "data.head()"
   ]
  },
  {
   "cell_type": "code",
   "execution_count": 11,
   "id": "1f788fc1-31bb-40e1-9079-03a8d4972985",
   "metadata": {},
   "outputs": [
    {
     "data": {
      "text/html": [
       "<div>\n",
       "<style scoped>\n",
       "    .dataframe tbody tr th:only-of-type {\n",
       "        vertical-align: middle;\n",
       "    }\n",
       "\n",
       "    .dataframe tbody tr th {\n",
       "        vertical-align: top;\n",
       "    }\n",
       "\n",
       "    .dataframe thead th {\n",
       "        text-align: right;\n",
       "    }\n",
       "</style>\n",
       "<table border=\"1\" class=\"dataframe\">\n",
       "  <thead>\n",
       "    <tr style=\"text-align: right;\">\n",
       "      <th></th>\n",
       "      <th>Unnamed: 0</th>\n",
       "      <th>Sales +</th>\n",
       "      <th>Expenses +</th>\n",
       "      <th>Operating Profit</th>\n",
       "      <th>OPM %</th>\n",
       "      <th>Other Income +</th>\n",
       "      <th>Interest</th>\n",
       "      <th>Depreciation</th>\n",
       "      <th>Profit before tax</th>\n",
       "      <th>Tax %</th>\n",
       "      <th>Net Profit</th>\n",
       "      <th>EPS in Rs</th>\n",
       "      <th>Raw PDF</th>\n",
       "      <th>quarter(10yrs)</th>\n",
       "      <th>ScripCode</th>\n",
       "      <th>Revenue</th>\n",
       "      <th>Financing Profit</th>\n",
       "      <th>Financing Margin %</th>\n",
       "      <th>Gross NPA %</th>\n",
       "      <th>Net NPA %</th>\n",
       "    </tr>\n",
       "  </thead>\n",
       "  <tbody>\n",
       "    <tr>\n",
       "      <th>0</th>\n",
       "      <td>0</td>\n",
       "      <td>136492.0</td>\n",
       "      <td>114487</td>\n",
       "      <td>22005.0</td>\n",
       "      <td>16%</td>\n",
       "      <td>-386</td>\n",
       "      <td>6064</td>\n",
       "      <td>6332</td>\n",
       "      <td>9223</td>\n",
       "      <td>29%</td>\n",
       "      <td>6546</td>\n",
       "      <td>9.39</td>\n",
       "      <td>NaN</td>\n",
       "      <td>Mar 2020</td>\n",
       "      <td>500325</td>\n",
       "      <td>NaN</td>\n",
       "      <td>NaN</td>\n",
       "      <td>NaN</td>\n",
       "      <td>NaN</td>\n",
       "      <td>NaN</td>\n",
       "    </tr>\n",
       "    <tr>\n",
       "      <th>1</th>\n",
       "      <td>1</td>\n",
       "      <td>88253.0</td>\n",
       "      <td>71378</td>\n",
       "      <td>16875.0</td>\n",
       "      <td>19%</td>\n",
       "      <td>9676</td>\n",
       "      <td>6735</td>\n",
       "      <td>6308</td>\n",
       "      <td>13508</td>\n",
       "      <td>2%</td>\n",
       "      <td>13248</td>\n",
       "      <td>20.87</td>\n",
       "      <td>NaN</td>\n",
       "      <td>Jun 2020</td>\n",
       "      <td>500325</td>\n",
       "      <td>NaN</td>\n",
       "      <td>NaN</td>\n",
       "      <td>NaN</td>\n",
       "      <td>NaN</td>\n",
       "      <td>NaN</td>\n",
       "    </tr>\n",
       "    <tr>\n",
       "      <th>2</th>\n",
       "      <td>2</td>\n",
       "      <td>111236.0</td>\n",
       "      <td>92291</td>\n",
       "      <td>18945.0</td>\n",
       "      <td>17%</td>\n",
       "      <td>4354</td>\n",
       "      <td>6084</td>\n",
       "      <td>6626</td>\n",
       "      <td>10589</td>\n",
       "      <td>-0%</td>\n",
       "      <td>10602</td>\n",
       "      <td>15.09</td>\n",
       "      <td>NaN</td>\n",
       "      <td>Sep 2020</td>\n",
       "      <td>500325</td>\n",
       "      <td>NaN</td>\n",
       "      <td>NaN</td>\n",
       "      <td>NaN</td>\n",
       "      <td>NaN</td>\n",
       "      <td>NaN</td>\n",
       "    </tr>\n",
       "    <tr>\n",
       "      <th>3</th>\n",
       "      <td>3</td>\n",
       "      <td>117860.0</td>\n",
       "      <td>96294</td>\n",
       "      <td>21566.0</td>\n",
       "      <td>18%</td>\n",
       "      <td>4407</td>\n",
       "      <td>4326</td>\n",
       "      <td>6665</td>\n",
       "      <td>14982</td>\n",
       "      <td>1%</td>\n",
       "      <td>14894</td>\n",
       "      <td>20.67</td>\n",
       "      <td>NaN</td>\n",
       "      <td>Dec 2020</td>\n",
       "      <td>500325</td>\n",
       "      <td>NaN</td>\n",
       "      <td>NaN</td>\n",
       "      <td>NaN</td>\n",
       "      <td>NaN</td>\n",
       "      <td>NaN</td>\n",
       "    </tr>\n",
       "    <tr>\n",
       "      <th>4</th>\n",
       "      <td>4</td>\n",
       "      <td>149575.0</td>\n",
       "      <td>126224</td>\n",
       "      <td>23351.0</td>\n",
       "      <td>16%</td>\n",
       "      <td>4048</td>\n",
       "      <td>4044</td>\n",
       "      <td>6973</td>\n",
       "      <td>16382</td>\n",
       "      <td>8%</td>\n",
       "      <td>14995</td>\n",
       "      <td>20.86</td>\n",
       "      <td>NaN</td>\n",
       "      <td>Mar 2021</td>\n",
       "      <td>500325</td>\n",
       "      <td>NaN</td>\n",
       "      <td>NaN</td>\n",
       "      <td>NaN</td>\n",
       "      <td>NaN</td>\n",
       "      <td>NaN</td>\n",
       "    </tr>\n",
       "  </tbody>\n",
       "</table>\n",
       "</div>"
      ],
      "text/plain": [
       "   Unnamed: 0   Sales +  Expenses +  Operating Profit OPM %  Other Income +  \\\n",
       "0           0  136492.0      114487           22005.0   16%            -386   \n",
       "1           1   88253.0       71378           16875.0   19%            9676   \n",
       "2           2  111236.0       92291           18945.0   17%            4354   \n",
       "3           3  117860.0       96294           21566.0   18%            4407   \n",
       "4           4  149575.0      126224           23351.0   16%            4048   \n",
       "\n",
       "   Interest  Depreciation  Profit before tax Tax %  Net Profit  EPS in Rs  \\\n",
       "0      6064          6332               9223   29%        6546       9.39   \n",
       "1      6735          6308              13508    2%       13248      20.87   \n",
       "2      6084          6626              10589   -0%       10602      15.09   \n",
       "3      4326          6665              14982    1%       14894      20.67   \n",
       "4      4044          6973              16382    8%       14995      20.86   \n",
       "\n",
       "   Raw PDF quarter(10yrs)  ScripCode  Revenue  Financing Profit  \\\n",
       "0      NaN       Mar 2020     500325      NaN               NaN   \n",
       "1      NaN       Jun 2020     500325      NaN               NaN   \n",
       "2      NaN       Sep 2020     500325      NaN               NaN   \n",
       "3      NaN       Dec 2020     500325      NaN               NaN   \n",
       "4      NaN       Mar 2021     500325      NaN               NaN   \n",
       "\n",
       "  Financing Margin % Gross NPA % Net NPA %  \n",
       "0                NaN         NaN       NaN  \n",
       "1                NaN         NaN       NaN  \n",
       "2                NaN         NaN       NaN  \n",
       "3                NaN         NaN       NaN  \n",
       "4                NaN         NaN       NaN  "
      ]
     },
     "execution_count": 11,
     "metadata": {},
     "output_type": "execute_result"
    }
   ],
   "source": [
    "data=data.dropna(how=\"all\")\n",
    "data.head()"
   ]
  },
  {
   "cell_type": "code",
   "execution_count": 12,
   "id": "99d818d0-1cc1-447d-a5e5-06c0b031ec50",
   "metadata": {},
   "outputs": [
    {
     "data": {
      "text/plain": [
       "np.int64(7544)"
      ]
     },
     "execution_count": 12,
     "metadata": {},
     "output_type": "execute_result"
    }
   ],
   "source": [
    "data.isnull().sum().sum()"
   ]
  },
  {
   "cell_type": "raw",
   "id": "ddbadd4e-c062-4de2-9853-a06f5a72ec7f",
   "metadata": {},
   "source": [
    "data = data.drop(['Revenue','Financing Profit','Financing Margin %','Gross NPA %','Net NPA %'],axis = 1)"
   ]
  },
  {
   "cell_type": "code",
   "execution_count": 17,
   "id": "fbcc7765-68bb-4549-8fc0-6e939b02a719",
   "metadata": {},
   "outputs": [
    {
     "data": {
      "text/html": [
       "<div>\n",
       "<style scoped>\n",
       "    .dataframe tbody tr th:only-of-type {\n",
       "        vertical-align: middle;\n",
       "    }\n",
       "\n",
       "    .dataframe tbody tr th {\n",
       "        vertical-align: top;\n",
       "    }\n",
       "\n",
       "    .dataframe thead th {\n",
       "        text-align: right;\n",
       "    }\n",
       "</style>\n",
       "<table border=\"1\" class=\"dataframe\">\n",
       "  <thead>\n",
       "    <tr style=\"text-align: right;\">\n",
       "      <th></th>\n",
       "      <th>Unnamed: 0</th>\n",
       "      <th>Sales +</th>\n",
       "      <th>Expenses +</th>\n",
       "      <th>Operating Profit</th>\n",
       "      <th>OPM %</th>\n",
       "      <th>Other Income +</th>\n",
       "      <th>Interest</th>\n",
       "      <th>Depreciation</th>\n",
       "      <th>Profit before tax</th>\n",
       "      <th>Tax %</th>\n",
       "      <th>Net Profit</th>\n",
       "      <th>EPS in Rs</th>\n",
       "      <th>quarter(10yrs)</th>\n",
       "      <th>ScripCode</th>\n",
       "    </tr>\n",
       "  </thead>\n",
       "  <tbody>\n",
       "    <tr>\n",
       "      <th>0</th>\n",
       "      <td>0</td>\n",
       "      <td>136492.0</td>\n",
       "      <td>114487</td>\n",
       "      <td>22005.0</td>\n",
       "      <td>16%</td>\n",
       "      <td>-386</td>\n",
       "      <td>6064</td>\n",
       "      <td>6332</td>\n",
       "      <td>9223</td>\n",
       "      <td>29%</td>\n",
       "      <td>6546</td>\n",
       "      <td>9.39</td>\n",
       "      <td>Mar 2020</td>\n",
       "      <td>500325</td>\n",
       "    </tr>\n",
       "    <tr>\n",
       "      <th>1</th>\n",
       "      <td>1</td>\n",
       "      <td>88253.0</td>\n",
       "      <td>71378</td>\n",
       "      <td>16875.0</td>\n",
       "      <td>19%</td>\n",
       "      <td>9676</td>\n",
       "      <td>6735</td>\n",
       "      <td>6308</td>\n",
       "      <td>13508</td>\n",
       "      <td>2%</td>\n",
       "      <td>13248</td>\n",
       "      <td>20.87</td>\n",
       "      <td>Jun 2020</td>\n",
       "      <td>500325</td>\n",
       "    </tr>\n",
       "    <tr>\n",
       "      <th>2</th>\n",
       "      <td>2</td>\n",
       "      <td>111236.0</td>\n",
       "      <td>92291</td>\n",
       "      <td>18945.0</td>\n",
       "      <td>17%</td>\n",
       "      <td>4354</td>\n",
       "      <td>6084</td>\n",
       "      <td>6626</td>\n",
       "      <td>10589</td>\n",
       "      <td>-0%</td>\n",
       "      <td>10602</td>\n",
       "      <td>15.09</td>\n",
       "      <td>Sep 2020</td>\n",
       "      <td>500325</td>\n",
       "    </tr>\n",
       "    <tr>\n",
       "      <th>3</th>\n",
       "      <td>3</td>\n",
       "      <td>117860.0</td>\n",
       "      <td>96294</td>\n",
       "      <td>21566.0</td>\n",
       "      <td>18%</td>\n",
       "      <td>4407</td>\n",
       "      <td>4326</td>\n",
       "      <td>6665</td>\n",
       "      <td>14982</td>\n",
       "      <td>1%</td>\n",
       "      <td>14894</td>\n",
       "      <td>20.67</td>\n",
       "      <td>Dec 2020</td>\n",
       "      <td>500325</td>\n",
       "    </tr>\n",
       "    <tr>\n",
       "      <th>4</th>\n",
       "      <td>4</td>\n",
       "      <td>149575.0</td>\n",
       "      <td>126224</td>\n",
       "      <td>23351.0</td>\n",
       "      <td>16%</td>\n",
       "      <td>4048</td>\n",
       "      <td>4044</td>\n",
       "      <td>6973</td>\n",
       "      <td>16382</td>\n",
       "      <td>8%</td>\n",
       "      <td>14995</td>\n",
       "      <td>20.86</td>\n",
       "      <td>Mar 2021</td>\n",
       "      <td>500325</td>\n",
       "    </tr>\n",
       "  </tbody>\n",
       "</table>\n",
       "</div>"
      ],
      "text/plain": [
       "   Unnamed: 0   Sales +  Expenses +  Operating Profit OPM %  Other Income +  \\\n",
       "0           0  136492.0      114487           22005.0   16%            -386   \n",
       "1           1   88253.0       71378           16875.0   19%            9676   \n",
       "2           2  111236.0       92291           18945.0   17%            4354   \n",
       "3           3  117860.0       96294           21566.0   18%            4407   \n",
       "4           4  149575.0      126224           23351.0   16%            4048   \n",
       "\n",
       "   Interest  Depreciation  Profit before tax Tax %  Net Profit  EPS in Rs  \\\n",
       "0      6064          6332               9223   29%        6546       9.39   \n",
       "1      6735          6308              13508    2%       13248      20.87   \n",
       "2      6084          6626              10589   -0%       10602      15.09   \n",
       "3      4326          6665              14982    1%       14894      20.67   \n",
       "4      4044          6973              16382    8%       14995      20.86   \n",
       "\n",
       "  quarter(10yrs)  ScripCode  \n",
       "0       Mar 2020     500325  \n",
       "1       Jun 2020     500325  \n",
       "2       Sep 2020     500325  \n",
       "3       Dec 2020     500325  \n",
       "4       Mar 2021     500325  "
      ]
     },
     "execution_count": 17,
     "metadata": {},
     "output_type": "execute_result"
    }
   ],
   "source": [
    "data.head()"
   ]
  },
  {
   "cell_type": "code",
   "execution_count": 18,
   "id": "e33aa0dd-b2fd-4182-8f28-50b7de994a89",
   "metadata": {},
   "outputs": [
    {
     "data": {
      "text/plain": [
       "np.int64(551)"
      ]
     },
     "execution_count": 18,
     "metadata": {},
     "output_type": "execute_result"
    }
   ],
   "source": [
    "data.isnull().sum().sum()"
   ]
  },
  {
   "cell_type": "code",
   "execution_count": 19,
   "id": "a1d794e6-c346-476f-a8b9-85c3658419d3",
   "metadata": {},
   "outputs": [],
   "source": [
    "data = data.fillna(value=0)"
   ]
  },
  {
   "cell_type": "code",
   "execution_count": 20,
   "id": "e11b86d5-87fa-42fa-b3dc-4a6a40919228",
   "metadata": {},
   "outputs": [
    {
     "data": {
      "text/plain": [
       "np.int64(0)"
      ]
     },
     "execution_count": 20,
     "metadata": {},
     "output_type": "execute_result"
    }
   ],
   "source": [
    "data.isnull().sum().sum()"
   ]
  },
  {
   "cell_type": "markdown",
   "id": "cd4bd357-ed74-4365-8a44-eefd18555046",
   "metadata": {},
   "source": [
    "### Scatter plot"
   ]
  },
  {
   "cell_type": "code",
   "execution_count": 25,
   "id": "0a0bc244-a22e-42c1-9ad7-e804cd459b33",
   "metadata": {},
   "outputs": [],
   "source": [
    "data.columns = data.columns.str.strip()\n"
   ]
  },
  {
   "cell_type": "code",
   "execution_count": 28,
   "id": "18f54c08-8c46-427b-a59e-bbe246593bd3",
   "metadata": {},
   "outputs": [
    {
     "name": "stdout",
     "output_type": "stream",
     "text": [
      "Index(['Unnamed: 0', 'Sales +', 'Expenses +', 'Operating Profit', 'OPM %',\n",
      "       'Other Income +', 'Interest', 'Depreciation', 'Profit before tax',\n",
      "       'Tax %', 'Net Profit', 'EPS in Rs', 'quarter(10yrs)', 'ScripCode'],\n",
      "      dtype='object')\n"
     ]
    }
   ],
   "source": [
    "print(data.columns)"
   ]
  },
  {
   "cell_type": "code",
   "execution_count": 36,
   "id": "1e614c5a-a48a-4cca-ae0e-3f1e3ed0a127",
   "metadata": {},
   "outputs": [
    {
     "data": {
      "image/png": "[encoded data removed]",
      "text/plain": [
       "<Figure size 640x480 with 1 Axes>"
      ]
     },
     "metadata": {},
     "output_type": "display_data"
    }
   ],
   "source": [
    "plp.scatter(data['Profit before tax'],data['Net Profit'])\n",
    "#Adding title to the plot\n",
    "plp.title('Scatter Plot')\n",
    "#Setting x axis and y axis title\n",
    "plp.xlabel('Profit before tax')\n",
    "plp.ylabel('Net Profit')\n",
    "plp.show()"
   ]
  },
  {
   "cell_type": "markdown",
   "id": "78e266ac-54b8-4293-bb06-67d78d4fd4da",
   "metadata": {},
   "source": [
    "### Line Chart"
   ]
  },
  {
   "cell_type": "code",
   "execution_count": 37,
   "id": "16126651-69d6-40a7-bf46-3d15891d5833",
   "metadata": {},
   "outputs": [
    {
     "data": {
      "image/png": "[encoded data removed]",
      "text/plain": [
       "<Figure size 640x480 with 1 Axes>"
      ]
     },
     "metadata": {},
     "output_type": "display_data"
    }
   ],
   "source": [
    "plp.plot(data['Profit before tax'])\n",
    "plp.plot(data['Net Profit'])\n",
    "#Adding title to the plot\n",
    "plp.title('Line Plot')\n",
    "#Setting x axis and y axis title\n",
    "plp.xlabel('Profit before tax')\n",
    "plp.ylabel('Net Profit')\n",
    "plp.show()"
   ]
  },
  {
   "cell_type": "markdown",
   "id": "af67f60c-705c-4901-a881-056d8e8c64ac",
   "metadata": {},
   "source": [
    "### Bar Chart "
   ]
  },
  {
   "cell_type": "code",
   "execution_count": 53,
   "id": "cd859fc3-eb57-4dd2-94c4-c799d0e8498a",
   "metadata": {},
   "outputs": [
    {
     "data": {
      "image/png": "[encoded data removed]",
      "text/plain": [
       "<Figure size 640x480 with 1 Axes>"
      ]
     },
     "metadata": {},
     "output_type": "display_data"
    }
   ],
   "source": [
    "plp.bar(data['quarter(10yrs)'],data['Depreciation'])\n",
    "#Adding title to the plot\n",
    "plp.title('Bar Chart')\n",
    "#Setting x axis and y axis title\n",
    "plp.xlabel('quarter(10yrs)')\n",
    "plp.ylabel('Depreciation')\n",
    "plp.ylim(1000.10000)\n",
    "plp.show()"
   ]
  },
  {
   "cell_type": "markdown",
   "id": "8c758a89-5ae8-4d4e-bd7f-95dd5a885806",
   "metadata": {},
   "source": [
    "### Histogram"
   ]
  },
  {
   "cell_type": "code",
   "execution_count": 42,
   "id": "043e1fa6-554d-42b0-beb2-dff1f60e44a8",
   "metadata": {},
   "outputs": [
    {
     "data": {
      "image/png": "[encoded data removed]",
      "text/plain": [
       "<Figure size 640x480 with 1 Axes>"
      ]
     },
     "metadata": {},
     "output_type": "display_data"
    }
   ],
   "source": [
    "plp.hist(data['Net Profit'])\n",
    "plp.title(\"Histogram\")\n",
    "plp.show()"
   ]
  },
  {
   "cell_type": "code",
   "execution_count": null,
   "id": "062976ed-21e2-49e2-8bb9-14797e1379da",
   "metadata": {},
   "outputs": [],
   "source": []
  }
 ],
 "metadata": {
  "kernelspec": {
   "display_name": "Python 3 (ipykernel)",
   "language": "python",
   "name": "python3"
  },
  "language_info": {
   "codemirror_mode": {
    "name": "ipython",
    "version": 3
   },
   "file_extension": ".py",
   "mimetype": "text/x-python",
   "name": "python",
   "nbconvert_exporter": "python",
   "pygments_lexer": "ipython3",
   "version": "3.12.4"
  }
 },
 "nbformat": 4,
 "nbformat_minor": 5
}
